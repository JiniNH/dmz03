{
  "cells": [
    {
      "cell_type": "markdown",
      "metadata": {
        "id": "uqxkavom1SMh"
      },
      "source": [
        "# Chapter1. 소개\n",
        "NLP는 언어학 지식에 상관없이 텍스트를 이해하는 통계적인 방법을 사용해 실전 문제를 해결하는 일련의 기술"
      ]
    },
    {
      "cell_type": "markdown",
      "metadata": {
        "id": "gI4m-MIB1WW5"
      },
      "source": [
        "## 1. 지도 학습\n",
        "\n",
        "- 머신러닝에서 지도학습은 샘플observation에 대응하는 타깃target(예측하는 값)의 정답을 제공하는 방식\n",
        "\n",
        "- 문서 분류 작업에서 샘플은 문서이고 타깃은 범주형 레이블 categorical label\n",
        "\n",
        "- 기계번역에서 샘플은 한 언어의 문장이고 타깃은 다른 언어의 문장\n",
        "\n",
        "- 샘플 : 예측에 사용되는 아이템. 샘플은 x로 표시. 입력input 이라고도 부른다\n",
        "\n",
        "- 타깃 : 샘플에 상응하는 레이블label. 일반적으로 예측되는 대상이다. 머신러닝/딥러닝의 표준적인 표기법에 따라 y로 나타낸다. 정답 ground truth 라고도 부른다\n",
        "\n",
        "- 모델 : 수학식이나 샘플 x를 받아 타깃 레이블값을예측하는 함수\n",
        "\n",
        "- 파라미터 : 가중치weight 라고도 부른다. 파라미터가 모델을 규정한다. w 또는 w_hat으로 사용\n",
        "\n",
        "- 예측 : 모델이 추측하는 타깃값. 추정estimate라고도 부른다. hat 표기를 사용 y의 예측은 y_hat\n",
        "\n",
        "- 손실함수 loss function : 훈련 데이터에 대한 예측이 타깃과 얼마나 멀리 떨어져 있는지 비교하는 함수. 타깃과 예측이 주어지면 손실함수는 손실loss 이라 부르는 실수 스칼라값을 계산. 손실이 낮을수록 타깃 예측을 더 잘하는 모델. L로 표기"
      ]
    },
    {
      "cell_type": "markdown",
      "metadata": {
        "id": "FHJdDesI1s8f"
      },
      "source": [
        "### (확률적) 경사 하강법을 사용한 훈련\n",
        "\n",
        "- 지도학습의 목적은 주어진 데이터셋에서 손실함수를 최소로하는 파라미터값을 고르는것(방정식의 근찾기)\n",
        "\n",
        "- 경사 하강법gradient descent은 식의 근을 찾는 일반적인 방법\n",
        "\n",
        "- 전통적인 경사 하강법에서는 근(파라미터)의 추깃값을 추측한 다음 목적 함수objective function(손실함수)의 값이 수용할만한 임계점(수렴조건) 아래로 내려갈때 까지 파라미터를 반복해서 업데이트\n",
        "\n",
        "- 데이터셋이 크면 적용하기 어렵고 계산 비용이 높아 매우 느리므로 확률적stochastic 경사 하강법을 사용"
      ]
    },
    {
      "cell_type": "markdown",
      "metadata": {
        "id": "QmliSJXK118c"
      },
      "source": [
        "## 2. 샘플과 타깃의 인코딩\n",
        "\n",
        "- 샘플(텍스트)을 머신러닝 알고리즘에 사용하려면 수치로 표현\n",
        "\n",
        "- 수치 벡터는 텍스트를 표현하는 간단한 방법\n",
        "\n",
        "- 휴리스틱 기반의 단순한 카운트 방식 표현으로 시작. 카운트 기반 표현은 모두 고정된 차원의 벡터로 시작"
      ]
    },
    {
      "cell_type": "markdown",
      "metadata": {
        "id": "639-N33t19OU"
      },
      "source": [
        "### 2.1 원-핫 표현 one-hot representation\n",
        "\n",
        "- 원-핫 표현은 0 벡터에서 시작해 문장이나 문서에 등장하는 단어에 상응하는 원소를 1로 설정\n",
        "\n",
        "- 문장을 토큰token으로 나누고 구두점을 무시한 다음 모두 소문자로 바꾸면 어휘 사전vocabulary 크기 n차원의 원-핫 벡터로 표현할 수 있다"
      ]
    },
    {
      "cell_type": "markdown",
      "metadata": {
        "id": "Hx8jUFez2Ii0"
      },
      "source": [
        "### 2.2 TF 표현 (Term-Frequency)\n",
        "\n",
        "- 구, 문장, 문서의 TF 표현은 단순히 소속 단어의 원-핫 표현을 합해 만든다. 각 원소는 해당 단어가 문장(말뭉치)에 등장하는 횟수이다. 단어 w의 TF는 TF(w)라고 표기한다"
      ]
    },
    {
      "cell_type": "code",
      "execution_count": null,
      "metadata": {
        "colab": {
          "base_uri": "https://localhost:8080/",
          "height": 337
        },
        "id": "JF3wWa2_dwf2",
        "outputId": "8ca67bb2-91fb-4119-a1e5-6ea0d41fe6d5"
      },
      "outputs": [
        {
          "name": "stderr",
          "output_type": "stream",
          "text": [
            "/usr/local/lib/python3.7/dist-packages/sklearn/utils/deprecation.py:87: FutureWarning: Function get_feature_names is deprecated; get_feature_names is deprecated in 1.0 and will be removed in 1.2. Please use get_feature_names_out instead.\n",
            "  warnings.warn(msg, category=FutureWarning)\n"
          ]
        },
        {
          "data": {
            "text/plain": [
              "<matplotlib.axes._subplots.AxesSubplot at 0x7f24000dd390>"
            ]
          },
          "execution_count": 3,
          "metadata": {},
          "output_type": "execute_result"
        },
        {
          "data": {
            "image/png": "[encoded data removed]",
            "text/plain": [
              "<Figure size 432x288 with 1 Axes>"
            ]
          },
          "metadata": {
            "needs_background": "light"
          },
          "output_type": "display_data"
        }
      ],
      "source": [
        "# 사이킷런을 사용하여 원-핫 벡터 또는 이진 표현 만들기\n",
        "from sklearn.feature_extraction.text import CountVectorizer\n",
        "import seaborn as sns\n",
        "\n",
        "corpus = ['Time flies like and arrow.',\n",
        "          'Fruit flies like a banana']\n",
        "\n",
        "one_hot_vectorizer = CountVectorizer(binary=True)\n",
        "one_hot = one_hot_vectorizer.fit_transform(corpus).toarray()\n",
        "vocab = one_hot_vectorizer.get_feature_names()\n",
        "\n",
        "sns.heatmap(one_hot, annot=True,\n",
        "            cbar=False, xticklabels=vocab,\n",
        "            yticklabels=['Sentence 1', 'Sentence 2'])"
      ]
    },
    {
      "cell_type": "markdown",
      "metadata": {
        "id": "G8AoU22S6SPZ"
      },
      "source": [
        "### 2.3 TF-IDF 표현 (Term-Frequency-Inverse-Document-Frequency)\n",
        "\n",
        "- 특허 문서 묶음이 있다고 가정할 때, 문서 대부분에 'claim', 'system', 'method', 'procedure' 같은 단어가 여러번 반복해서 나올 것이라고 예상할 수 있다\n",
        "\n",
        "- TF는 등장 횟수에 비례하여 단어에 가중치를 부여한다. 하지만 'claim' 같이 흔한 단어에는 특정 특허와 관련된 정보는 담겨있지않고 반대로 희귀한 단어는 자주 나오지 않지만 특허 문서긔 특징을 잘 나타낸다\n",
        "\n",
        "- 역문서빈도(IDF)는 벡터 표현에서 흔한 토큰의 점수를 낮추고 드문 토큰의 점수를 높인다\n",
        "\n",
        "\n",
        "- $IDF\\left(w\\right)=\\log \\frac{N}{n_w}\\ \\ \\ \\ \\left(n_w\\ :\\ 단어\\ w를\\ 포함한\\ 문서의\\ 개수,\\ N\\ :\\ 전체\\ 문서\\ 개수\\right)$\n",
        "\n",
        "- TF-IDF score : TF(w) * IDF(w)\n",
        "\n",
        "- 사이킷런의 TfidfVectorizer 클래스에서 계산하는 IDF는 분자와 분모에 1을 더하고 마지막에 1을 더해 모든 문서에 포함된 단어가 있을 때 IDF가 0이 되는 상황을 방지한다\n",
        "\n",
        "- 딥러닝의 목적은 표현 학습이므로 보통 TF-IDF와 같이 경험적인 방법으로 입력을 인코딩하지 않는다\n",
        "\n",
        "- 주로 정수 인덱스를 사용한 원-핫 인코딩과 특수한 임베딩 룩업embedding lookup 층으로 신경망을 구성"
      ]
    },
    {
      "cell_type": "code",
      "execution_count": null,
      "metadata": {
        "colab": {
          "base_uri": "https://localhost:8080/",
          "height": 282
        },
        "id": "XQsDF1Ak27ZI",
        "outputId": "38732a13-caac-4823-a6bd-4c8ceca23cf9"
      },
      "outputs": [
        {
          "data": {
            "text/plain": [
              "<matplotlib.axes._subplots.AxesSubplot at 0x7f23fd36e4d0>"
            ]
          },
          "execution_count": 11,
          "metadata": {},
          "output_type": "execute_result"
        },
        {
          "data": {
            "image/png": "[encoded data removed]",
            "text/plain": [
              "<Figure size 432x288 with 1 Axes>"
            ]
          },
          "metadata": {
            "needs_background": "light"
          },
          "output_type": "display_data"
        }
      ],
      "source": [
        "# 사이킷런을 사용해 TF-IDF 표현 만들기\n",
        "from sklearn.feature_extraction.text import TfidfVectorizer\n",
        "import seaborn as sns\n",
        "\n",
        "tfidf_vectorizer = TfidfVectorizer()\n",
        "tfidf = tfidf_vectorizer.fit_transform(corpus).toarray()\n",
        "sns.heatmap(tfidf, annot=True, cbar=False, xticklabels=vocab,\n",
        "            yticklabels=['Sentence 1', 'Sentence 2'])"
      ]
    },
    {
      "cell_type": "markdown",
      "metadata": {
        "id": "v8xWaDU1K6ns"
      },
      "source": [
        "### 2.4 타깃 인코딩\n",
        "\n",
        "- 타깃변수의 정확한 형태는 풀려는 NLP 문제에 따라 다르다\n",
        "\n",
        "- 많은 NLP 작업은 범주형 레이블 사용. 레이블마다 고유한 인덱스를 부여하는 방법을 가장 많이 사용\n",
        "\n",
        "- 이런 간단한 표현은 출력 레이블 수가 너무 커지면 문제가 된되는데, 이전 단어를 입력하면 다음 단어를 예측하는 language modeling이 그런 예이다\n",
        "\n",
        "- '0-18', '19-25', '25-30' 과 같은 범주형 구간bin 으로 바꾸고 순서가 있는 분류문제로 다루는 방법도 있다"
      ]
    },
    {
      "cell_type": "markdown",
      "metadata": {
        "id": "sopXkf6KLO7h"
      },
      "source": [
        "## 3. 계산 그래프\n",
        "\n",
        "- 계산 그래프 데이터 구조를 사용하면 데이터 흐름을 간편하게 구현 가능하다\n",
        "\n",
        "- 기술적으로 보면 계산 그래프는 수학식을 추상적으로 모델링 한것이다\n",
        "\n",
        "- 노드node는 곱셈이나 덧셈같은 수학 연산을 나타낸다\n",
        "\n",
        "- 연산의 입력은 노드로 들어가는 에지edge이고 연산의 출력은 노드에서 나가는 에지이다"
      ]
    },
    {
      "cell_type": "markdown",
      "metadata": {
        "id": "Kd1PMaePLfMs"
      },
      "source": [
        "## 4. 파이토치 기초\n",
        "\n",
        "- 씨아노, 카페, 텐서플로와 달리 파이토치는 테이프tape 기반 자동미분 방식을 구현 (http://bit.ly/2Jrntq1)\n",
        "\n",
        "- 이 방식은 계산 그래프를 동적으로 정의하고 실행할 수 있다\n",
        "\n",
        "- 디버깅이 아주 편리하며 복잡한 모델을 손쉽게 만들게 해준다\n",
        "\n",
        "\n",
        "(참고)동적 계산 그래프와 정적 계산 그래프\n",
        "\n",
        "- 씨아노, 카페, 텐서플로와 같은 정적 프레임워크는 먼저 계산 그래프를 정의하고 컴파일한 다음 실행\n",
        "\n",
        "- 이 방식은 제품시스템과 모바일 환경에서 매우 효율적이지만 연구나 개발을 할땐 번거로울 수 있다\n",
        "\n",
        "- 체이너, 다이넷, 파이토치 같은 최신 프레임워크는 동적 계산 그래프를 구현하여 좀 더 유연한 명령형 스타일의 개발을 지원하며 실행할 때마다 모델을 컴파일하지 않아도 된다\n",
        "\n",
        "- 입력마다 다른 그래프 구조가 만들어질 수 잇는 NLP 모델링 작업에 잘 맞는다\n",
        "\n",
        "- 파이토치는 다양한 딥러닝용 패키지를 제공하는 최적화된 텐서 조작 라이브러리"
      ]
    },
    {
      "cell_type": "markdown",
      "metadata": {
        "id": "bRzDmlz8MGr9"
      },
      "source": [
        "### 4.1 파이토치 설치\n",
        "- https://pytorch.org/ 참고하여 컴퓨터 환경에 맞도록 설치"
      ]
    },
    {
      "cell_type": "markdown",
      "metadata": {
        "id": "ov1xHEDzMMgY"
      },
      "source": [
        "### 4.2 텐서 만들기"
      ]
    },
    {
      "cell_type": "code",
      "execution_count": 3,
      "metadata": {
        "id": "da7fRn2A8ZnA"
      },
      "outputs": [],
      "source": [
        "# 헬퍼 함수 정의\n",
        "def describe(x):\n",
        "    print(\"type  : {}\".format(x.type()))\n",
        "    print(\"shape : {}\".format(x.shape))\n",
        "    print(\"value : \\n{}\".format(x))"
      ]
    },
    {
      "cell_type": "code",
      "execution_count": 4,
      "metadata": {
        "colab": {
          "base_uri": "https://localhost:8080/"
        },
        "id": "arDqqNdGN24T",
        "outputId": "e8e22130-dc54-4a00-be4a-7cff239d695f"
      },
      "outputs": [
        {
          "name": "stdout",
          "output_type": "stream",
          "text": [
            "type  : torch.FloatTensor\n",
            "shape : torch.Size([2, 3])\n",
            "value : \n",
            "tensor([[0., 0., 0.],\n",
            "        [0., 0., 0.]])\n"
          ]
        }
      ],
      "source": [
        "# Create Tensor\n",
        "import torch\n",
        "describe(torch.Tensor(2, 3))"
      ]
    },
    {
      "cell_type": "code",
      "execution_count": 5,
      "metadata": {
        "colab": {
          "base_uri": "https://localhost:8080/"
        },
        "id": "VDYnd66pOQp8",
        "outputId": "3a3406a6-3ffe-4ec2-d739-4fc1eeb2685a"
      },
      "outputs": [
        {
          "name": "stdout",
          "output_type": "stream",
          "text": [
            "type  : torch.FloatTensor\n",
            "shape : torch.Size([2, 3])\n",
            "value : \n",
            "tensor([[0.9234, 0.8137, 0.6873],\n",
            "        [0.4243, 0.1883, 0.9403]])\n",
            "type  : torch.FloatTensor\n",
            "shape : torch.Size([2, 3])\n",
            "value : \n",
            "tensor([[ 0.1363, -0.0169,  1.4050],\n",
            "        [ 1.2756, -0.3973,  1.2365]])\n"
          ]
        }
      ],
      "source": [
        "# random init Tensor\n",
        "import torch\n",
        "describe(torch.rand(2, 3))  # 균등분포\n",
        "describe(torch.randn(2, 3)) # 표준정규분포"
      ]
    },
    {
      "cell_type": "code",
      "execution_count": 6,
      "metadata": {
        "colab": {
          "base_uri": "https://localhost:8080/"
        },
        "id": "94J9VgYVP3jB",
        "outputId": "255dcce1-1981-432b-cc5b-debbd70e06d5"
      },
      "outputs": [
        {
          "name": "stdout",
          "output_type": "stream",
          "text": [
            "type  : torch.FloatTensor\n",
            "shape : torch.Size([2, 3])\n",
            "value : \n",
            "tensor([[0., 0., 0.],\n",
            "        [0., 0., 0.]])\n",
            "type  : torch.FloatTensor\n",
            "shape : torch.Size([2, 3])\n",
            "value : \n",
            "tensor([[1., 1., 1.],\n",
            "        [1., 1., 1.]])\n",
            "type  : torch.FloatTensor\n",
            "shape : torch.Size([2, 3])\n",
            "value : \n",
            "tensor([[5., 5., 5.],\n",
            "        [5., 5., 5.]])\n"
          ]
        }
      ],
      "source": [
        "# filled() method\n",
        "import torch\n",
        "describe(torch.zeros(2, 3))\n",
        "x = torch.ones(2, 3)\n",
        "describe(x)\n",
        "x.fill_(5)\n",
        "describe(x)"
      ]
    },
    {
      "cell_type": "code",
      "execution_count": 7,
      "metadata": {
        "colab": {
          "base_uri": "https://localhost:8080/"
        },
        "id": "sSgoZwqUQV5y",
        "outputId": "37cc8518-6402-4058-84ad-b067afef0ef6"
      },
      "outputs": [
        {
          "name": "stdout",
          "output_type": "stream",
          "text": [
            "type  : torch.FloatTensor\n",
            "shape : torch.Size([2, 3])\n",
            "value : \n",
            "tensor([[1., 2., 3.],\n",
            "        [4., 5., 6.]])\n"
          ]
        }
      ],
      "source": [
        "# list\n",
        "x = torch.Tensor([[1,2,3],\n",
        "                  [4,5,6]])\n",
        "describe(x)"
      ]
    },
    {
      "cell_type": "code",
      "execution_count": 8,
      "metadata": {
        "colab": {
          "base_uri": "https://localhost:8080/"
        },
        "id": "ipeyTje9TKS5",
        "outputId": "39d72405-37f6-4ade-d161-b7e095643b58"
      },
      "outputs": [
        {
          "name": "stdout",
          "output_type": "stream",
          "text": [
            "type  : torch.DoubleTensor\n",
            "shape : torch.Size([2, 3])\n",
            "value : \n",
            "tensor([[0.0118, 0.2332, 0.7599],\n",
            "        [0.4738, 0.9339, 0.4382]], dtype=torch.float64)\n"
          ]
        }
      ],
      "source": [
        "# numpy로 텐서 만들고 초기화\n",
        "import torch\n",
        "import numpy as np\n",
        "npy = np.random.rand(2,3)\n",
        "describe(torch.from_numpy(npy))"
      ]
    },
    {
      "cell_type": "markdown",
      "metadata": {
        "id": "zszP_W8lXs6a"
      },
      "source": [
        "### 4.3 텐서 타입과 크기\n",
        "\n",
        "- torch.Tensor 생성자를 사용할 때 기본 텐서 타입은 torch.FloatTensor\n",
        "\n",
        "- 타입은 초기화할 때 지정하거나 나중에 타입 캐스팅casting 메서드 사용해 변경(float, long, double 등)"
      ]
    },
    {
      "cell_type": "code",
      "execution_count": 9,
      "metadata": {
        "colab": {
          "base_uri": "https://localhost:8080/"
        },
        "id": "Z1dV5j85Ta4i",
        "outputId": "68697379-14aa-43d5-9e14-21fa43dd7b77"
      },
      "outputs": [
        {
          "name": "stdout",
          "output_type": "stream",
          "text": [
            "type  : torch.FloatTensor\n",
            "shape : torch.Size([2, 3])\n",
            "value : \n",
            "tensor([[1., 2., 3.],\n",
            "        [4., 5., 6.]])\n"
          ]
        }
      ],
      "source": [
        "# 텐서 속성\n",
        "x - torch.FloatTensor([[1,2,3],\n",
        "                      [4,5,6]])\n",
        "describe(x)"
      ]
    },
    {
      "cell_type": "code",
      "execution_count": 10,
      "metadata": {
        "colab": {
          "base_uri": "https://localhost:8080/"
        },
        "id": "bScKmfH4ZyCA",
        "outputId": "830829dc-dcec-47e9-cb73-40f40d38d098"
      },
      "outputs": [
        {
          "name": "stdout",
          "output_type": "stream",
          "text": [
            "type  : torch.LongTensor\n",
            "shape : torch.Size([2, 3])\n",
            "value : \n",
            "tensor([[1, 2, 3],\n",
            "        [4, 5, 6]])\n"
          ]
        }
      ],
      "source": [
        "x = x.long()\n",
        "describe(x)"
      ]
    },
    {
      "cell_type": "code",
      "execution_count": 11,
      "metadata": {
        "colab": {
          "base_uri": "https://localhost:8080/"
        },
        "id": "9pnNLF-kaKxN",
        "outputId": "a4b769e8-e4c8-464c-ba71-5334d7865a80"
      },
      "outputs": [
        {
          "name": "stdout",
          "output_type": "stream",
          "text": [
            "type  : torch.LongTensor\n",
            "shape : torch.Size([2, 3])\n",
            "value : \n",
            "tensor([[1, 2, 3],\n",
            "        [4, 5, 6]])\n"
          ]
        }
      ],
      "source": [
        "x = torch.tensor([[1,2,3],\n",
        "                  [4,5,6]], dtype=torch.int64)\n",
        "describe(x)"
      ]
    },
    {
      "cell_type": "code",
      "execution_count": 12,
      "metadata": {
        "colab": {
          "base_uri": "https://localhost:8080/"
        },
        "id": "2F3qiXKLa7BM",
        "outputId": "f611e8fe-63bc-4899-b968-747b3fdcd37c"
      },
      "outputs": [
        {
          "name": "stdout",
          "output_type": "stream",
          "text": [
            "type  : torch.FloatTensor\n",
            "shape : torch.Size([2, 3])\n",
            "value : \n",
            "tensor([[1., 2., 3.],\n",
            "        [4., 5., 6.]])\n"
          ]
        }
      ],
      "source": [
        "x = x.float()\n",
        "describe(x)"
      ]
    },
    {
      "cell_type": "markdown",
      "metadata": {
        "id": "RF0aWVIlDmSt"
      },
      "source": [
        "### 4.4 텐서 연산"
      ]
    },
    {
      "cell_type": "code",
      "execution_count": 13,
      "metadata": {
        "colab": {
          "base_uri": "https://localhost:8080/"
        },
        "id": "O68Zca5EbFqF",
        "outputId": "358bc870-2f64-4755-9867-8749a3d7ee04"
      },
      "outputs": [
        {
          "name": "stdout",
          "output_type": "stream",
          "text": [
            "type  : torch.FloatTensor\n",
            "shape : torch.Size([2, 3])\n",
            "value : \n",
            "tensor([[-1.3404,  0.9345,  0.8101],\n",
            "        [-0.2542, -0.9078,  1.5112]])\n"
          ]
        }
      ],
      "source": [
        "import torch\n",
        "x = torch.randn(2, 3)\n",
        "describe(x)"
      ]
    },
    {
      "cell_type": "code",
      "execution_count": 14,
      "metadata": {
        "colab": {
          "base_uri": "https://localhost:8080/"
        },
        "id": "FV1_SeuTDwjU",
        "outputId": "574f459d-b9d2-40b0-c5b2-a7ff26456d2f"
      },
      "outputs": [
        {
          "name": "stdout",
          "output_type": "stream",
          "text": [
            "type  : torch.FloatTensor\n",
            "shape : torch.Size([2, 3])\n",
            "value : \n",
            "tensor([[-2.6809,  1.8691,  1.6202],\n",
            "        [-0.5083, -1.8157,  3.0225]])\n"
          ]
        }
      ],
      "source": [
        "describe(torch.add(x, x))"
      ]
    },
    {
      "cell_type": "code",
      "execution_count": 15,
      "metadata": {
        "colab": {
          "base_uri": "https://localhost:8080/"
        },
        "id": "bb23vTRZEIMt",
        "outputId": "7e9a9c21-ba96-4c36-f7db-78f5d8dd86a4"
      },
      "outputs": [
        {
          "name": "stdout",
          "output_type": "stream",
          "text": [
            "type  : torch.FloatTensor\n",
            "shape : torch.Size([2, 3])\n",
            "value : \n",
            "tensor([[-2.6809,  1.8691,  1.6202],\n",
            "        [-0.5083, -1.8157,  3.0225]])\n"
          ]
        }
      ],
      "source": [
        "describe(x+x)"
      ]
    },
    {
      "cell_type": "code",
      "execution_count": 16,
      "metadata": {
        "colab": {
          "base_uri": "https://localhost:8080/"
        },
        "id": "Z5GGlg8MEOB0",
        "outputId": "54cb979d-387c-453b-b662-e8a8e7cd077d"
      },
      "outputs": [
        {
          "name": "stdout",
          "output_type": "stream",
          "text": [
            "type  : torch.LongTensor\n",
            "shape : torch.Size([6])\n",
            "value : \n",
            "tensor([0, 1, 2, 3, 4, 5])\n"
          ]
        }
      ],
      "source": [
        "# 차원별 텐서 연산\n",
        "import torch\n",
        "x = torch.arange(6)\n",
        "describe(x)"
      ]
    },
    {
      "cell_type": "code",
      "execution_count": 17,
      "metadata": {
        "colab": {
          "base_uri": "https://localhost:8080/"
        },
        "id": "eB6FZ9d5FUTo",
        "outputId": "730285fe-0e59-45e3-9bd1-77ee62731674"
      },
      "outputs": [
        {
          "name": "stdout",
          "output_type": "stream",
          "text": [
            "type  : torch.LongTensor\n",
            "shape : torch.Size([2, 3])\n",
            "value : \n",
            "tensor([[0, 1, 2],\n",
            "        [3, 4, 5]])\n"
          ]
        }
      ],
      "source": [
        "x = x.view(2,3)\n",
        "describe(x)"
      ]
    },
    {
      "cell_type": "code",
      "execution_count": 18,
      "metadata": {
        "colab": {
          "base_uri": "https://localhost:8080/"
        },
        "id": "nZo8PyYpFxyg",
        "outputId": "13b9b427-3095-4ef7-8a02-ae04e38e98f2"
      },
      "outputs": [
        {
          "name": "stdout",
          "output_type": "stream",
          "text": [
            "type  : torch.LongTensor\n",
            "shape : torch.Size([3])\n",
            "value : \n",
            "tensor([3, 5, 7])\n"
          ]
        }
      ],
      "source": [
        "describe(torch.sum(x, dim=0))"
      ]
    },
    {
      "cell_type": "code",
      "execution_count": 19,
      "metadata": {
        "colab": {
          "base_uri": "https://localhost:8080/"
        },
        "id": "xetaLR3-F5M9",
        "outputId": "513d9ca7-63e9-4097-9bd9-b1dfc54225a5"
      },
      "outputs": [
        {
          "name": "stdout",
          "output_type": "stream",
          "text": [
            "type  : torch.LongTensor\n",
            "shape : torch.Size([2])\n",
            "value : \n",
            "tensor([ 3, 12])\n"
          ]
        }
      ],
      "source": [
        "describe(torch.sum(x, dim=1))"
      ]
    },
    {
      "cell_type": "code",
      "execution_count": 20,
      "metadata": {
        "colab": {
          "base_uri": "https://localhost:8080/"
        },
        "id": "zYuTRkCVF9da",
        "outputId": "3ccda053-70f0-42a1-e88b-6ee1530d6572"
      },
      "outputs": [
        {
          "name": "stdout",
          "output_type": "stream",
          "text": [
            "type  : torch.LongTensor\n",
            "shape : torch.Size([3, 2])\n",
            "value : \n",
            "tensor([[0, 3],\n",
            "        [1, 4],\n",
            "        [2, 5]])\n"
          ]
        }
      ],
      "source": [
        "# transpose() 함수는 두번째와 세번째로 전달된 차원을 전치한 텐서\n",
        "describe(torch.transpose(x, 0, 1))"
      ]
    },
    {
      "cell_type": "markdown",
      "metadata": {
        "id": "RKJ7KvGqGbNE"
      },
      "source": [
        "### 4.5 인덱싱, 슬라이싱, 연결"
      ]
    },
    {
      "cell_type": "code",
      "execution_count": 21,
      "metadata": {
        "colab": {
          "base_uri": "https://localhost:8080/"
        },
        "id": "cxNO6nx3GB3a",
        "outputId": "2c74833a-2c7e-4665-fa77-21c88e55f4b6"
      },
      "outputs": [
        {
          "name": "stdout",
          "output_type": "stream",
          "text": [
            "type  : torch.LongTensor\n",
            "shape : torch.Size([2, 3])\n",
            "value : \n",
            "tensor([[0, 1, 2],\n",
            "        [3, 4, 5]])\n"
          ]
        }
      ],
      "source": [
        "import torch\n",
        "x = torch.arange(6).view(2,3)\n",
        "describe(x)"
      ]
    },
    {
      "cell_type": "code",
      "execution_count": 22,
      "metadata": {
        "colab": {
          "base_uri": "https://localhost:8080/"
        },
        "id": "5f2tFPGLGt7a",
        "outputId": "1917b52b-5309-4699-d061-e2ec0466d43b"
      },
      "outputs": [
        {
          "name": "stdout",
          "output_type": "stream",
          "text": [
            "type  : torch.LongTensor\n",
            "shape : torch.Size([1, 2])\n",
            "value : \n",
            "tensor([[0, 1]])\n"
          ]
        }
      ],
      "source": [
        "describe(x[:1, :2])"
      ]
    },
    {
      "cell_type": "code",
      "execution_count": 23,
      "metadata": {
        "colab": {
          "base_uri": "https://localhost:8080/"
        },
        "id": "LsqGko8zGzPU",
        "outputId": "9e4d90bf-01e1-40f8-a485-7d2c9300fad9"
      },
      "outputs": [
        {
          "name": "stdout",
          "output_type": "stream",
          "text": [
            "type  : torch.LongTensor\n",
            "shape : torch.Size([])\n",
            "value : \n",
            "1\n"
          ]
        }
      ],
      "source": [
        "describe(x[0,1])"
      ]
    },
    {
      "cell_type": "code",
      "execution_count": 24,
      "metadata": {
        "colab": {
          "base_uri": "https://localhost:8080/"
        },
        "id": "wnufzzkFG2ym",
        "outputId": "4a05c4cc-3766-4f2e-dac2-f49e465ab6b3"
      },
      "outputs": [
        {
          "name": "stdout",
          "output_type": "stream",
          "text": [
            "type  : torch.LongTensor\n",
            "shape : torch.Size([2, 2])\n",
            "value : \n",
            "tensor([[0, 2],\n",
            "        [3, 5]])\n"
          ]
        }
      ],
      "source": [
        "# 복잡한 인덱싱, 연속적지 않은 인덱스 참조\n",
        "indices = torch.LongTensor([0,2])\n",
        "describe(torch.index_select(x, dim=1, index=indices))"
      ]
    },
    {
      "cell_type": "code",
      "execution_count": 25,
      "metadata": {
        "colab": {
          "base_uri": "https://localhost:8080/"
        },
        "id": "3Onhgg_RHG7Z",
        "outputId": "e8ae5f51-8915-41f0-e1b4-55ef07a24336"
      },
      "outputs": [
        {
          "name": "stdout",
          "output_type": "stream",
          "text": [
            "type  : torch.LongTensor\n",
            "shape : torch.Size([2, 3])\n",
            "value : \n",
            "tensor([[0, 1, 2],\n",
            "        [0, 1, 2]])\n"
          ]
        }
      ],
      "source": [
        "indices = torch.LongTensor([0,0])\n",
        "describe(torch.index_select(x, dim=0, index=indices))"
      ]
    },
    {
      "cell_type": "code",
      "execution_count": 26,
      "metadata": {
        "colab": {
          "base_uri": "https://localhost:8080/"
        },
        "id": "Tqfi2MhUIT1s",
        "outputId": "7ee68a0e-adc5-42cc-9cd6-db7982f76fb5"
      },
      "outputs": [
        {
          "name": "stdout",
          "output_type": "stream",
          "text": [
            "type  : torch.LongTensor\n",
            "shape : torch.Size([2])\n",
            "value : \n",
            "tensor([0, 4])\n"
          ]
        }
      ],
      "source": [
        "row_indices = torch.arange(2).long()\n",
        "col_indices = torch.LongTensor([0,1])\n",
        "describe(x[row_indices, col_indices])"
      ]
    },
    {
      "cell_type": "code",
      "execution_count": 27,
      "metadata": {
        "colab": {
          "base_uri": "https://localhost:8080/"
        },
        "id": "eT8f112CI678",
        "outputId": "e49c55cf-20f1-4a00-d397-618f6745670c"
      },
      "outputs": [
        {
          "name": "stdout",
          "output_type": "stream",
          "text": [
            "type  : torch.LongTensor\n",
            "shape : torch.Size([2, 3])\n",
            "value : \n",
            "tensor([[0, 1, 2],\n",
            "        [3, 4, 5]])\n"
          ]
        }
      ],
      "source": [
        "# 텐서 연결\n",
        "import torch\n",
        "x = torch.arange(6).view(2,3)\n",
        "describe(x)"
      ]
    },
    {
      "cell_type": "code",
      "execution_count": 28,
      "metadata": {
        "colab": {
          "base_uri": "https://localhost:8080/"
        },
        "id": "U75SVct3JWiY",
        "outputId": "79d996da-26b7-44c9-aefd-bd2e15b631d3"
      },
      "outputs": [
        {
          "name": "stdout",
          "output_type": "stream",
          "text": [
            "type  : torch.LongTensor\n",
            "shape : torch.Size([4, 3])\n",
            "value : \n",
            "tensor([[0, 1, 2],\n",
            "        [3, 4, 5],\n",
            "        [0, 1, 2],\n",
            "        [3, 4, 5]])\n"
          ]
        }
      ],
      "source": [
        "describe(torch.cat([x,x], dim=0))"
      ]
    },
    {
      "cell_type": "code",
      "execution_count": 29,
      "metadata": {
        "colab": {
          "base_uri": "https://localhost:8080/"
        },
        "id": "ebiaYv27KET2",
        "outputId": "15c84b45-bc04-4d0a-feea-131eb1eb6bec"
      },
      "outputs": [
        {
          "name": "stdout",
          "output_type": "stream",
          "text": [
            "type  : torch.LongTensor\n",
            "shape : torch.Size([2, 6])\n",
            "value : \n",
            "tensor([[0, 1, 2, 0, 1, 2],\n",
            "        [3, 4, 5, 3, 4, 5]])\n"
          ]
        }
      ],
      "source": [
        "describe(torch.cat([x,x], dim=1))"
      ]
    },
    {
      "cell_type": "code",
      "execution_count": 30,
      "metadata": {
        "colab": {
          "base_uri": "https://localhost:8080/"
        },
        "id": "af8W9cQoKLOG",
        "outputId": "240ab7fe-a161-425e-e879-7a8af8333ca3"
      },
      "outputs": [
        {
          "name": "stdout",
          "output_type": "stream",
          "text": [
            "type  : torch.LongTensor\n",
            "shape : torch.Size([2, 2, 3])\n",
            "value : \n",
            "tensor([[[0, 1, 2],\n",
            "         [3, 4, 5]],\n",
            "\n",
            "        [[0, 1, 2],\n",
            "         [3, 4, 5]]])\n"
          ]
        }
      ],
      "source": [
        "describe(torch.stack([x,x]))"
      ]
    },
    {
      "cell_type": "code",
      "execution_count": 31,
      "metadata": {
        "colab": {
          "base_uri": "https://localhost:8080/"
        },
        "id": "96BCAImOKQCy",
        "outputId": "920b4a26-b582-456b-ef6d-8135adf393ca"
      },
      "outputs": [
        {
          "name": "stdout",
          "output_type": "stream",
          "text": [
            "type  : torch.FloatTensor\n",
            "shape : torch.Size([2, 3])\n",
            "value : \n",
            "tensor([[0., 1., 2.],\n",
            "        [3., 4., 5.]])\n"
          ]
        }
      ],
      "source": [
        "# 텐서의 선형 대수 계산 : 행렬 곱셈\n",
        "import torch\n",
        "x1 = torch.arange(6).view(2,3).float()\n",
        "describe(x1)"
      ]
    },
    {
      "cell_type": "code",
      "execution_count": 32,
      "metadata": {
        "colab": {
          "base_uri": "https://localhost:8080/"
        },
        "id": "k6s8nNbSKaaT",
        "outputId": "47152dbb-d356-440c-d1d1-c7d0fd82795b"
      },
      "outputs": [
        {
          "name": "stdout",
          "output_type": "stream",
          "text": [
            "type  : torch.FloatTensor\n",
            "shape : torch.Size([3, 2])\n",
            "value : \n",
            "tensor([[1., 2.],\n",
            "        [1., 2.],\n",
            "        [1., 2.]])\n"
          ]
        }
      ],
      "source": [
        "x2 = torch.ones(3,2)\n",
        "x2[:, 1] += 1\n",
        "describe(x2)"
      ]
    },
    {
      "cell_type": "code",
      "execution_count": 33,
      "metadata": {
        "colab": {
          "base_uri": "https://localhost:8080/"
        },
        "id": "-Tr95pNwKgu6",
        "outputId": "77f7163a-c2cc-42de-db24-887b9881f7df"
      },
      "outputs": [
        {
          "name": "stdout",
          "output_type": "stream",
          "text": [
            "type  : torch.FloatTensor\n",
            "shape : torch.Size([2, 2])\n",
            "value : \n",
            "tensor([[ 3.,  6.],\n",
            "        [12., 24.]])\n"
          ]
        }
      ],
      "source": [
        "describe(torch.mm(x1, x2))"
      ]
    },
    {
      "cell_type": "markdown",
      "metadata": {
        "id": "3aPJooZWRSGs"
      },
      "source": [
        "### 4.6 텐서와 계산 그래프\n",
        "\n",
        "- tensor 클래스는 데이터와 대수 연산, 인덱싱, 크기 변경 같은 다양한 연산을 캡슐화\n",
        "\n",
        "- 텐서의 requires_grad=True 지정시 손실함수와 텐서의 그레이디언트를 기록하는 부가 연산 활성화\n",
        "\n",
        "- 파이토치가 정방향 계산의 값을 기록하고 계산이 끝나면 스칼라값 하나를 사용해 역방향 계산을 수행\n",
        "\n",
        "- 역방향 계산은 손실 함수의 평가 결과로 얻은 텐서에서 backward() 메서드를 호출해 시작\n",
        "\n",
        "- 역방향 계산은 정방향 계산에 참여한 텐서 객체에 대한 그레이디언트값을 계산"
      ]
    },
    {
      "cell_type": "code",
      "execution_count": 34,
      "metadata": {
        "colab": {
          "base_uri": "https://localhost:8080/"
        },
        "id": "EfoFZmc4KoeW",
        "outputId": "3324f927-5b0c-440c-80c1-300cf214867a"
      },
      "outputs": [
        {
          "name": "stdout",
          "output_type": "stream",
          "text": [
            "type  : torch.FloatTensor\n",
            "shape : torch.Size([2, 2])\n",
            "value : \n",
            "tensor([[1., 1.],\n",
            "        [1., 1.]], requires_grad=True)\n",
            "True\n"
          ]
        }
      ],
      "source": [
        "# 그레이디언트 연산을 할 수 있는 텐서 만들기\n",
        "import torch\n",
        "x = torch.ones(2, 2, requires_grad=True)\n",
        "describe(x)\n",
        "print(x.grad is None)"
      ]
    },
    {
      "cell_type": "code",
      "execution_count": 35,
      "metadata": {
        "colab": {
          "base_uri": "https://localhost:8080/"
        },
        "id": "ehgHiPaySrDv",
        "outputId": "cf08c05d-536f-424d-efda-f9ff3212d1fc"
      },
      "outputs": [
        {
          "name": "stdout",
          "output_type": "stream",
          "text": [
            "type  : torch.FloatTensor\n",
            "shape : torch.Size([2, 2])\n",
            "value : \n",
            "tensor([[21., 21.],\n",
            "        [21., 21.]], grad_fn=<AddBackward0>)\n",
            "True\n"
          ]
        }
      ],
      "source": [
        "y = (x + 2) * (x + 5) + 3\n",
        "describe(y)\n",
        "print(x.grad is None)"
      ]
    },
    {
      "cell_type": "code",
      "execution_count": 36,
      "metadata": {
        "colab": {
          "base_uri": "https://localhost:8080/"
        },
        "id": "x2-hiO5qS7lm",
        "outputId": "a4dc91ba-584d-4d84-df45-b0ea0d128133"
      },
      "outputs": [
        {
          "name": "stdout",
          "output_type": "stream",
          "text": [
            "type  : torch.FloatTensor\n",
            "shape : torch.Size([])\n",
            "value : \n",
            "21.0\n",
            "False\n"
          ]
        }
      ],
      "source": [
        "z = y.mean()\n",
        "describe(z)\n",
        "z.backward()\n",
        "print(x.grad is None)"
      ]
    },
    {
      "cell_type": "markdown",
      "metadata": {
        "id": "yAjTlcyGZKqd"
      },
      "source": [
        "### 4.7 CUDA 텐서\n",
        "\n",
        "- GPU를 사용하려면 먼저 텐서를 GPU 메모리에 할당. CUDA API를 사용해 GPU 활용\n",
        "\n",
        "- CUDA API는 NVIDIA에서 만들었고 NVIDIA GPU에서만 사용\n",
        "\n",
        "- 파이토치는 내부적인 할당 방식만 다를 뿐 CPU 텐서와 사용법이 같은 CUDA 텐서 객체 제공\n",
        "\n",
        "- 파이토치에서는 CPU나 GPU 같은 장치에 상관없이 동작하는 코드를 작성하는 것이 바람직"
      ]
    },
    {
      "cell_type": "code",
      "execution_count": 37,
      "metadata": {
        "colab": {
          "base_uri": "https://localhost:8080/"
        },
        "id": "WpddaLuYXUdb",
        "outputId": "0b450b1b-f419-4ceb-9741-dee58560283d"
      },
      "outputs": [
        {
          "name": "stdout",
          "output_type": "stream",
          "text": [
            "True\n"
          ]
        }
      ],
      "source": [
        "# CUDA 텐서 만들기\n",
        "import torch\n",
        "print(torch.cuda.is_available())"
      ]
    },
    {
      "cell_type": "code",
      "execution_count": 38,
      "metadata": {
        "colab": {
          "base_uri": "https://localhost:8080/"
        },
        "id": "02X6dQY_ZYCh",
        "outputId": "318a2b8d-691a-4deb-e866-6eb8794d88f4"
      },
      "outputs": [
        {
          "name": "stdout",
          "output_type": "stream",
          "text": [
            "cuda\n"
          ]
        }
      ],
      "source": [
        "# 바람직한 방법 : 장치에 무관한 텐서 초기화\n",
        "device = torch.device(\"cuda\" if torch.cuda.is_available() else \"cpu\")\n",
        "print(device)"
      ]
    },
    {
      "cell_type": "code",
      "execution_count": 39,
      "metadata": {
        "colab": {
          "base_uri": "https://localhost:8080/"
        },
        "id": "iWSp-yKnZhd9",
        "outputId": "5ae1937a-74c8-49f8-ea91-ae61ec562584"
      },
      "outputs": [
        {
          "name": "stdout",
          "output_type": "stream",
          "text": [
            "type  : torch.cuda.FloatTensor\n",
            "shape : torch.Size([3, 3])\n",
            "value : \n",
            "tensor([[0.7342, 0.3750, 0.7422],\n",
            "        [0.0931, 0.9322, 0.3491],\n",
            "        [0.3825, 0.1605, 0.8615]], device='cuda:0')\n"
          ]
        }
      ],
      "source": [
        "x = torch.rand(3,3).to(device)\n",
        "describe(x)"
      ]
    },
    {
      "cell_type": "code",
      "execution_count": 40,
      "metadata": {
        "colab": {
          "base_uri": "https://localhost:8080/",
          "height": 201
        },
        "id": "YYt4p-uCZnS7",
        "outputId": "94d0d808-f1ed-473f-eaf0-31e62db44251"
      },
      "outputs": [
        {
          "ename": "RuntimeError",
          "evalue": "Expected all tensors to be on the same device, but found at least two devices, cuda:0 and cpu!",
          "output_type": "error",
          "traceback": [
            "\u001b[1;31m---------------------------------------------------------------------------\u001b[0m",
            "\u001b[1;31mRuntimeError\u001b[0m                              Traceback (most recent call last)",
            "\u001b[1;32m<ipython-input-40-5d4d65c67aac>\u001b[0m in \u001b[0;36m<module>\u001b[1;34m\u001b[0m\n\u001b[0;32m      1\u001b[0m \u001b[1;31m# CUDA 텐서와 CPU 텐서 더하기\u001b[0m\u001b[1;33m\u001b[0m\u001b[1;33m\u001b[0m\u001b[1;33m\u001b[0m\u001b[0m\n\u001b[0;32m      2\u001b[0m \u001b[0my\u001b[0m \u001b[1;33m=\u001b[0m \u001b[0mtorch\u001b[0m\u001b[1;33m.\u001b[0m\u001b[0mrand\u001b[0m\u001b[1;33m(\u001b[0m\u001b[1;36m3\u001b[0m\u001b[1;33m,\u001b[0m\u001b[1;36m3\u001b[0m\u001b[1;33m)\u001b[0m\u001b[1;33m\u001b[0m\u001b[1;33m\u001b[0m\u001b[0m\n\u001b[1;32m----> 3\u001b[1;33m \u001b[0mx\u001b[0m \u001b[1;33m+\u001b[0m \u001b[0my\u001b[0m\u001b[1;33m\u001b[0m\u001b[1;33m\u001b[0m\u001b[0m\n\u001b[0m",
            "\u001b[1;31mRuntimeError\u001b[0m: Expected all tensors to be on the same device, but found at least two devices, cuda:0 and cpu!"
          ]
        }
      ],
      "source": [
        "# CUDA 텐서와 CPU 텐서 더하기\n",
        "y = torch.rand(3,3)\n",
        "x + y"
      ]
    },
    {
      "cell_type": "code",
      "execution_count": null,
      "metadata": {
        "colab": {
          "base_uri": "https://localhost:8080/"
        },
        "id": "qNhUw1EnZ0CT",
        "outputId": "8601d8f7-82b1-4f7a-d17f-464456b89e14"
      },
      "outputs": [
        {
          "data": {
            "text/plain": [
              "tensor([[1.0964, 1.2259, 0.8231],\n",
              "        [1.3676, 0.1332, 0.5061],\n",
              "        [0.9303, 1.8388, 0.9000]])"
            ]
          },
          "execution_count": 39,
          "metadata": {},
          "output_type": "execute_result"
        }
      ],
      "source": [
        "cpu_device = torch.device(\"cpu\")\n",
        "y = y.to(cpu_device)\n",
        "x = x.to(cpu_device)\n",
        "x + y"
      ]
    },
    {
      "cell_type": "markdown",
      "metadata": {
        "id": "Cpp057_bcc0O"
      },
      "source": [
        "- GPU로 데이터를 넣고 꺼내는 작업은 비용이 많이든다\n",
        "\n",
        "- 따라서 병렬 계산은 일반적으로 GPU에서 수행하고 최종 결과만 CPU로 전송하는 방식으로 이루어 진다\n",
        "\n",
        "- CUDA 장치가 여럿이라면 프로그램을 실행할 때 다음처럼 CUDA_VISIBLE_DEVICES 환경변수 사용\n",
        "\n",
        "    - CUDA_VISIBLE_DEVICES=0,1,2,3 python main.py\n",
        "\n",
        "    - http://bit.ly/2PqdsPF"
      ]
    },
    {
      "cell_type": "markdown",
      "metadata": {
        "id": "BEF4f1o7cyGz"
      },
      "source": [
        "## 5. 연습문제\n",
        "- 공식문서 참고 : http://bit.ly/3c7Bfyq"
      ]
    },
    {
      "cell_type": "code",
      "execution_count": 41,
      "metadata": {
        "colab": {
          "base_uri": "https://localhost:8080/"
        },
        "id": "2HCJnL6HZ-Kr",
        "outputId": "c325c7bc-52a0-4c2f-9bf5-8b4eb8b72019"
      },
      "outputs": [
        {
          "data": {
            "text/plain": [
              "tensor([[[0.3868, 0.7568, 0.5310],\n",
              "         [0.4729, 0.0128, 0.1200],\n",
              "         [0.1898, 0.3947, 0.7924]]])"
            ]
          },
          "execution_count": 41,
          "metadata": {},
          "output_type": "execute_result"
        }
      ],
      "source": [
        "# 1. 2D 텐서를 만들고 차원 0 위치에 크기가 1인 차원을 추가\n",
        "a = torch.rand(3,3)\n",
        "\n",
        "a.unsqueeze(0)"
      ]
    },
    {
      "cell_type": "code",
      "execution_count": 42,
      "metadata": {
        "colab": {
          "base_uri": "https://localhost:8080/"
        },
        "id": "vj0ZxYZWeAJj",
        "outputId": "595f467a-01e6-4620-a87a-3224ff760ba6"
      },
      "outputs": [
        {
          "data": {
            "text/plain": [
              "tensor([[0.3868, 0.7568, 0.5310],\n",
              "        [0.4729, 0.0128, 0.1200],\n",
              "        [0.1898, 0.3947, 0.7924]])"
            ]
          },
          "execution_count": 42,
          "metadata": {},
          "output_type": "execute_result"
        }
      ],
      "source": [
        "# 2. 이전 텐서에 추가한 차원을 삭제\n",
        "a.squeeze(0)"
      ]
    },
    {
      "cell_type": "code",
      "execution_count": 43,
      "metadata": {
        "colab": {
          "base_uri": "https://localhost:8080/"
        },
        "id": "u8-w4oXyekGi",
        "outputId": "0426e75b-475c-402f-e9cb-36839433c97d"
      },
      "outputs": [
        {
          "data": {
            "text/plain": [
              "tensor([[6.8157, 4.0807, 4.3888],\n",
              "        [5.1820, 6.5484, 4.4226],\n",
              "        [3.4679, 6.4684, 3.4884],\n",
              "        [4.8010, 4.7209, 4.9162],\n",
              "        [6.5226, 3.5379, 5.3957]])"
            ]
          },
          "execution_count": 43,
          "metadata": {},
          "output_type": "execute_result"
        }
      ],
      "source": [
        "# 3. 범위가 [3,7) 이고 크기가 5x3인 랜덤한 텐서\n",
        "3 + torch.rand(5,3) * (7-3)"
      ]
    },
    {
      "cell_type": "code",
      "execution_count": 44,
      "metadata": {
        "colab": {
          "base_uri": "https://localhost:8080/"
        },
        "id": "ixXKHbL-fPzE",
        "outputId": "5e9d20fa-691d-4678-85bc-0ca15bb10fd7"
      },
      "outputs": [
        {
          "data": {
            "text/plain": [
              "tensor([[-1.2995,  0.8005, -0.6133],\n",
              "        [ 0.9576, -1.1282,  0.7441],\n",
              "        [ 1.0416,  0.5043, -0.5898]])"
            ]
          },
          "execution_count": 44,
          "metadata": {},
          "output_type": "execute_result"
        }
      ],
      "source": [
        "# 4. 정규 분포를 사용해 텐서\n",
        "a = torch.rand(3,3)\n",
        "a.normal_()"
      ]
    },
    {
      "cell_type": "code",
      "execution_count": 45,
      "metadata": {
        "colab": {
          "base_uri": "https://localhost:8080/"
        },
        "id": "7JYlnGeemPmX",
        "outputId": "defe1b13-6746-47b8-bc3d-d8a5781f1833"
      },
      "outputs": [
        {
          "data": {
            "text/plain": [
              "tensor([[0],\n",
              "        [1],\n",
              "        [2],\n",
              "        [4]])"
            ]
          },
          "execution_count": 45,
          "metadata": {},
          "output_type": "execute_result"
        }
      ],
      "source": [
        "# 5. 텐서 torch.Tensor([1,1,1,0,1])에서 0이 아닌 원소의 인덱스를 추출\n",
        "a = torch.Tensor([1,1,1,0,1])\n",
        "torch.nonzero(a)"
      ]
    },
    {
      "cell_type": "code",
      "execution_count": 46,
      "metadata": {
        "colab": {
          "base_uri": "https://localhost:8080/"
        },
        "id": "gBO4M7p7mds2",
        "outputId": "9fd0d87c-d1a4-4979-c856-46424baa24a5"
      },
      "outputs": [
        {
          "data": {
            "text/plain": [
              "tensor([[0.5250, 0.5250, 0.5250, 0.5250],\n",
              "        [0.3551, 0.3551, 0.3551, 0.3551],\n",
              "        [0.6749, 0.6749, 0.6749, 0.6749]])"
            ]
          },
          "execution_count": 46,
          "metadata": {},
          "output_type": "execute_result"
        }
      ],
      "source": [
        "# 6. 크기가 (3,1)인 랜덤한 텐서를 만들고 네 벌을 복사해 쌓기\n",
        "a = torch.rand(3, 1)\n",
        "a.expand(3, 4)"
      ]
    },
    {
      "cell_type": "code",
      "execution_count": 47,
      "metadata": {
        "colab": {
          "base_uri": "https://localhost:8080/"
        },
        "id": "DaROtGD9nBTl",
        "outputId": "35c97e8e-12cb-4dd4-8101-793265dda2d7"
      },
      "outputs": [
        {
          "data": {
            "text/plain": [
              "tensor([[[1.6799, 2.1704, 1.1329, 1.9046],\n",
              "         [0.9733, 1.3021, 0.5777, 1.0161],\n",
              "         [1.4919, 1.3196, 0.9003, 1.1017],\n",
              "         [1.9760, 2.4991, 1.3687, 2.0681]],\n",
              "\n",
              "        [[0.8891, 1.4437, 0.7750, 0.6108],\n",
              "         [0.5798, 2.2810, 1.1174, 1.2722],\n",
              "         [0.7250, 1.5154, 0.5268, 0.7243],\n",
              "         [0.4922, 1.5086, 0.5597, 0.6511]],\n",
              "\n",
              "        [[0.9404, 0.8557, 0.4529, 0.4099],\n",
              "         [0.8847, 1.3853, 1.3583, 1.4064],\n",
              "         [1.5172, 0.9548, 1.0138, 0.8809],\n",
              "         [0.9457, 0.9718, 0.9701, 0.8813]]])"
            ]
          },
          "execution_count": 47,
          "metadata": {},
          "output_type": "execute_result"
        }
      ],
      "source": [
        "# 7. 2차원 행렬 두 개(a=torch.rand(3,4,5), b=torch.rand(3,5,4))의 배치 행렬 곱셈 계산\n",
        "a = torch.rand(3,4,5)\n",
        "b = torch.rand(3,5,4)\n",
        "torch.bmm(a, b)"
      ]
    },
    {
      "cell_type": "code",
      "execution_count": 48,
      "metadata": {
        "colab": {
          "base_uri": "https://localhost:8080/"
        },
        "id": "AXF6VnxFngjx",
        "outputId": "aa775334-5891-4081-8ced-03d0936f313d"
      },
      "outputs": [
        {
          "data": {
            "text/plain": [
              "tensor([[[1.5522, 1.0200, 1.3349, 1.7985],\n",
              "         [1.1660, 1.0891, 1.5489, 1.1330],\n",
              "         [1.1317, 0.5333, 0.9101, 0.7200],\n",
              "         [1.8489, 1.5430, 1.9988, 2.0788]],\n",
              "\n",
              "        [[0.9337, 0.6871, 1.0537, 0.6474],\n",
              "         [0.8938, 1.0313, 1.5143, 1.1434],\n",
              "         [1.7527, 1.0622, 1.3049, 1.9548],\n",
              "         [0.8296, 0.8663, 0.7990, 1.4746]],\n",
              "\n",
              "        [[1.1785, 1.0682, 1.6469, 1.2195],\n",
              "         [0.5642, 0.5490, 0.5350, 0.9589],\n",
              "         [1.3178, 1.3335, 1.3356, 1.8476],\n",
              "         [0.7765, 0.9049, 1.0745, 1.1199]]])"
            ]
          },
          "execution_count": 48,
          "metadata": {},
          "output_type": "execute_result"
        }
      ],
      "source": [
        "# 8. 3차원 행렬(a=torch.rand(3,4,5))과 2차원 행렬(b=torch.rand(5,4))의 배치 행렬 곱셈 계산\n",
        "a = torch.rand(3,4,5)\n",
        "b = torch.rand(5,4)\n",
        "torch.bmm(a,b.unsqueeze(0).expand(a.size(0), *b.size()))"
      ]
    },
    {
      "cell_type": "code",
      "execution_count": null,
      "metadata": {},
      "outputs": [],
      "source": []
    }
  ],
  "metadata": {
    "accelerator": "GPU",
    "colab": {
      "collapsed_sections": [],
      "name": "NLP_with_PyTorch_Chapter1.ipynb",
      "provenance": []
    },
    "gpuClass": "standard",
    "kernelspec": {
      "display_name": "Python 3.8.3 ('base')",
      "language": "python",
      "name": "python3"
    },
    "language_info": {
      "codemirror_mode": {
        "name": "ipython",
        "version": 3
      },
      "file_extension": ".py",
      "mimetype": "text/x-python",
      "name": "python",
      "nbconvert_exporter": "python",
      "pygments_lexer": "ipython3",
      "version": "3.8.3"
    },
    "vscode": {
      "interpreter": {
        "hash": "46e7d24ecb1dc1117e8330ee9e498b85da846e4ffb1348d12e4a7f0695b68a9d"
      }
    }
  },
  "nbformat": 4,
  "nbformat_minor": 0
}
